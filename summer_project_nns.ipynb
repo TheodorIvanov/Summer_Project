{
  "nbformat": 4,
  "nbformat_minor": 0,
  "metadata": {
    "colab": {
      "name": "summer_project_nns.ipynb",
      "provenance": [],
      "collapsed_sections": [
        "94JuY_dloaRj",
        "wGm5iU-woig5"
      ],
      "authorship_tag": "ABX9TyOeL9WJjFtxlCrlKkRLX88a",
      "include_colab_link": true
    },
    "kernelspec": {
      "name": "python3",
      "display_name": "Python 3"
    },
    "accelerator": "GPU"
  },
  "cells": [
    {
      "cell_type": "markdown",
      "metadata": {
        "id": "view-in-github",
        "colab_type": "text"
      },
      "source": [
        "<a href=\"https://colab.research.google.com/github/TheodorIvanov/Summer_Project/blob/master/summer_project_nns.ipynb\" target=\"_parent\"><img src=\"https://colab.research.google.com/assets/colab-badge.svg\" alt=\"Open In Colab\"/></a>"
      ]
    },
    {
      "cell_type": "markdown",
      "metadata": {
        "id": "j227QeM-oVCq",
        "colab_type": "text"
      },
      "source": [
        "## Loading Data"
      ]
    },
    {
      "cell_type": "code",
      "metadata": {
        "id": "zT8tg5dIoNb2",
        "colab_type": "code",
        "colab": {
          "base_uri": "https://localhost:8080/",
          "height": 34
        },
        "outputId": "07f939cf-d679-4526-a345-467f7826703c"
      },
      "source": [
        "from google.colab import files # insert json token\n",
        "\n",
        "import json # alternatively can use files.upload()\n",
        "dict = {\"username\":\"tedbg41\",\"key\":\"e8b997c78473e26b4bec20ca33c9ca66\"}\n",
        "with open('kaggle.json', 'w') as fp:\n",
        "    json.dump(dict, fp)\n",
        "\n",
        "!mkdir -p ~/.kaggle\n",
        "!cp kaggle.json ~/.kaggle/kaggle.json\n",
        "!chmod 600 /root/.kaggle/kaggle.json\n",
        "\n",
        "# Downloading the Zip database from Kaggle\n",
        "!kaggle datasets download -d mlg-ulb/creditcardfraud\n",
        "\n",
        "# Unzipping the file\n",
        "import zipfile\n",
        "with zipfile.ZipFile(\"creditcardfraud.zip\",\"r\") as zip_ref:\n",
        "    zip_ref.extractall()"
      ],
      "execution_count": 9,
      "outputs": [
        {
          "output_type": "stream",
          "text": [
            "creditcardfraud.zip: Skipping, found more recently modified local copy (use --force to force download)\n"
          ],
          "name": "stdout"
        }
      ]
    },
    {
      "cell_type": "markdown",
      "metadata": {
        "id": "94JuY_dloaRj",
        "colab_type": "text"
      },
      "source": [
        "## Libraries"
      ]
    },
    {
      "cell_type": "code",
      "metadata": {
        "id": "qU1TrqpjocYE",
        "colab_type": "code",
        "colab": {}
      },
      "source": [
        "import pandas as pd\n",
        "import numpy as np\n",
        "import matplotlib.pyplot as plt\n",
        "from matplotlib import gridspec\n",
        "%matplotlib inline\n",
        "import seaborn as sns\n",
        "sns.set_palette(\"Set2\")\n",
        "sns.set_style(\"darkgrid\")\n",
        "\n",
        "from sklearn.preprocessing import StandardScaler\n",
        "from sklearn.model_selection import train_test_split\n",
        "from sklearn.metrics import confusion_matrix, classification_report\n",
        "\n",
        "import tensorflow as tf\n",
        "import keras\n",
        "from keras.layers import *\n",
        "from keras import losses\n",
        "from keras import optimizers\n",
        "from keras import regularizers\n",
        "from keras.models import Model, load_model\n",
        "from keras.callbacks import ModelCheckpoint, TensorBoard, EarlyStopping\n",
        "\n",
        "seed = 66\n",
        "\n",
        "# Supressing  Warnings\n",
        "\n",
        "import warnings\n",
        "def fxn():\n",
        "    warnings.warn(\"deprecated\", DeprecationWarning)\n",
        "\n",
        "# Functions\n",
        "\n",
        "def LossGraph(history):\n",
        "  plt.figure(figsize = (12,9))\n",
        "  plt.plot(history.history['loss'])\n",
        "  plt.plot(history.history['val_loss'])\n",
        "  plt.title('Model loss')\n",
        "  plt.ylabel('Loss')\n",
        "  plt.xlabel('Epoch')\n",
        "  plt.legend(['train', 'test'], loc='upper right')\n",
        "  plt.show();\n",
        "\n",
        "def ReconstructionScatter(cleared, frauds, threshold): \n",
        "  plt.figure(figsize = (12,9))\n",
        "  plt.scatter(cleared.index, cleared.values, marker = 'o', label = 'Cleared')\n",
        "  plt.scatter(frauds.index, frauds.values, marker = 'x', label = 'Fraud')\n",
        "  plt.hlines(threshold, plt.xlim()[0], plt.xlim()[1], colors = 'r', label = 'Threshold')\n",
        "  plt.legend(loc = 'best')\n",
        "  plt.title('Reconstructed Transactions')\n",
        "  plt.xlabel('Transaction ID')\n",
        "  plt.ylabel('Root Reconstruction Error')\n",
        "  plt.show();\n",
        "\n",
        "def ModelPerformance(X_test, y_test, prediction):\n",
        "  print('\\n Confusion Matrix \\n =================================== \\n')\n",
        "  sns.heatmap(confusion_matrix(y_test,prediction), annot = True, cmap='RdBu', fmt='g', cbar=False)\n",
        "  plt.title('Confusion Matrix')\n",
        "  plt.ylabel('True Label')\n",
        "  plt.xlabel('Predicted Label')\n",
        "  plt.show();\n",
        "  print('\\n Classification Report \\n =================================== \\n', classification_report(y_test,prediction))\n"
      ],
      "execution_count": 10,
      "outputs": []
    },
    {
      "cell_type": "markdown",
      "metadata": {
        "id": "wGm5iU-woig5",
        "colab_type": "text"
      },
      "source": [
        "## Sampling"
      ]
    },
    {
      "cell_type": "code",
      "metadata": {
        "id": "Aaqdgfovonni",
        "colab_type": "code",
        "colab": {}
      },
      "source": [
        "# Scaling the data\n",
        "\n",
        "df = pd.read_csv('creditcard.csv')\n",
        "scaled = pd.DataFrame(StandardScaler().fit_transform(df.drop(['Time','Class'], axis=1)),\n",
        "                      columns=df.drop(['Time','Class'],axis=1).columns) # scaling all columns apart from Time and Class\n",
        "scaled['Class'] = df['Class']\n",
        "\n",
        "# Splitting the data\n",
        "\n",
        "train, test = train_test_split(scaled, test_size = 0.2, random_state = seed)\n",
        "\n",
        "X_train = (train[train.Class == 0]).drop(['Class'], axis = 1) # using only the cleared transactions for training\n",
        "X_test = test.drop(['Class'], axis=1)\n",
        "y_test = test['Class']\n",
        "\n",
        "input_dim = X_train.shape[1] # input dimensions for the neural networks"
      ],
      "execution_count": 33,
      "outputs": []
    },
    {
      "cell_type": "markdown",
      "metadata": {
        "id": "87XwbTd7w1OB",
        "colab_type": "text"
      },
      "source": [
        "## Model 1: Simple Autoencoder"
      ]
    },
    {
      "cell_type": "code",
      "metadata": {
        "id": "dKeJB8P6w2rW",
        "colab_type": "code",
        "colab": {}
      },
      "source": [
        "# latent = 9 # dimension of the latent vector\n",
        "# batch_size = 128\n",
        "# epochs = 100\n",
        "\n",
        "# # Defining the Model\n",
        "\n",
        "# inputs = Input(shape=(input_dim,), name = 'input_encoder')\n",
        "\n",
        "# encoder = Dense(18, activation='relu')(inputs)\n",
        "# encoder = Dense(12, activation='relu')(encoder)\n",
        "\n",
        "# bottleneck  = Dense(latent, activation='relu')(encoder)\n",
        "\n",
        "# decoder = Dense(12, activation='relu')(bottleneck)\n",
        "# decoder = Dense(18, activation='relu')(decoder)\n",
        "# decoder = Dense(input_dim, activation='relu')(decoder)\n",
        "\n",
        "# autoencoder_1 = Model(inputs,decoder)\n",
        "# # autoencoder_1.summary()\n",
        "# # keras.utils.plot_model(autoencoder_1, show_shapes=True)\n",
        "\n",
        "# # Compiling the model\n",
        "\n",
        "# autoencoder_1.compile(optimizer=keras.optimizers.Adam(),\n",
        "#                       loss = losses.mean_squared_error,\n",
        "#                       metrics = ['mae','accuracy'])\n",
        "\n",
        "# # Early Stopper\n",
        "\n",
        "# stopper = EarlyStopping(monitor = 'val_loss',\n",
        "#                         min_delta = 0.005,\n",
        "#                         verbose = 1,\n",
        "#                         patience = 5,\n",
        "#                         restore_best_weights = True)\n",
        "\n",
        "# # Training\n",
        "\n",
        "# history = autoencoder_1.fit(X_train, X_train,\n",
        "#                             batch_size = batch_size,\n",
        "#                             epochs = epochs,\n",
        "#                             verbose = 2,\n",
        "#                             validation_data = (X_test, X_test),\n",
        "#                             callbacks = [stopper])\n",
        "\n",
        "# LossGraph(history)\n",
        "\n",
        "# # Predicting\n",
        "\n",
        "# predictions = autoencoder_1.predict(X_test)\n",
        "\n",
        "# # Reconstruction error (RMSE)\n",
        "\n",
        "# rmse = np.sqrt(np.mean(np.power(X_test - predictions, 2), axis = 1))\n",
        "\n",
        "# # Reconstructed data\n",
        "\n",
        "# reconstructed = pd.DataFrame({'rec_error': rmse,'true_class': y_test})\n",
        "\n",
        "# frauds = reconstructed[reconstructed.true_class == 1].drop('true_class', axis = 1)\n",
        "# cleared = reconstructed[reconstructed.true_class == 0].drop('true_class', axis = 1)\n",
        "\n",
        "# # Predicting the class using the threshtold\n",
        "\n",
        "# threshold = 5\n",
        "\n",
        "# reconstructed['pred_class'] = 0\n",
        "# reconstructed.pred_class[reconstructed.rec_error > threshold] = 1\n",
        "\n",
        "# # Model Performance\n",
        "\n",
        "# ReconstructionScatter(cleared, frauds, threshold = threshold)\n",
        "# ModelPerformance(X_test, y_test, reconstructed.pred_class)"
      ],
      "execution_count": null,
      "outputs": []
    },
    {
      "cell_type": "markdown",
      "metadata": {
        "id": "qgFO9UHe43zk",
        "colab_type": "text"
      },
      "source": [
        "## Feature Selection"
      ]
    },
    {
      "cell_type": "code",
      "metadata": {
        "id": "4VX4mkO_47OU",
        "colab_type": "code",
        "colab": {}
      },
      "source": [
        "# Feature Selection\n",
        "\n",
        "scaled = scaled.iloc[:, [2, 3, 8, 9, 10, 11, 13, 15, 16, 17, -1]]\n",
        "\n",
        "# Splitting the data\n",
        "\n",
        "train, test = train_test_split(scaled, test_size = 0.2, random_state = seed)\n",
        "\n",
        "X_train = (train[train.Class == 0]).drop(['Class'], axis = 1) # using only the cleared transactions for training\n",
        "X_test = test.drop(['Class'], axis=1)\n",
        "y_test = test['Class']\n",
        "\n",
        "input_dim = X_train.shape[1] # input dimensions for the neural networks"
      ],
      "execution_count": null,
      "outputs": []
    },
    {
      "cell_type": "markdown",
      "metadata": {
        "id": "GJEyHIr6aw60",
        "colab_type": "text"
      },
      "source": [
        "## Model 2"
      ]
    },
    {
      "cell_type": "code",
      "metadata": {
        "id": "SJXllM7T4yT0",
        "colab_type": "code",
        "colab": {
          "base_uri": "https://localhost:8080/",
          "height": 1000
        },
        "outputId": "eb6f94c7-e7c5-4d02-da02-f373852d8ad2"
      },
      "source": [
        "latent = 50 # dimension of the latent vector 5 \n",
        "batch_size = 128\n",
        "epochs = 100\n",
        "\n",
        "# Defining the Model\n",
        "\n",
        "inputs = Input(shape=(input_dim,), name = 'input_encoder')\n",
        "\n",
        "encoder = Dense(15, activation='relu')(inputs) # 6\n",
        "encoder = Dense(20, activation='relu')(encoder) # 9\n",
        "\n",
        "bottleneck  = Dense(latent, activation='relu')(encoder)\n",
        "\n",
        "decoder = Dense(20, activation='relu')(bottleneck)\n",
        "decoder = Dense(15, activation='relu')(decoder)\n",
        "decoder = Dense(input_dim, activation='relu')(decoder)\n",
        "\n",
        "autoencoder_2 = Model(inputs,decoder)\n",
        "# autoencoder_2.summary()\n",
        "# keras.utils.plot_model(autoencoder_2, show_shapes=True)\n",
        "\n",
        "# Compiling the model\n",
        "\n",
        "autoencoder_2.compile(optimizer=keras.optimizers.Adam(),\n",
        "                      loss = losses.mean_squared_error,\n",
        "                      metrics = ['mae','accuracy'])\n",
        "\n",
        "# Early Stopper\n",
        "\n",
        "stopper = EarlyStopping(monitor = 'val_loss',\n",
        "                        min_delta = 0.005,\n",
        "                        verbose = 1,\n",
        "                        patience = 5,\n",
        "                        restore_best_weights = True)\n",
        "\n",
        "# Training\n",
        "\n",
        "history = autoencoder_2.fit(X_train, X_train,\n",
        "                            batch_size = batch_size,\n",
        "                            epochs = epochs,\n",
        "                            verbose = 2,\n",
        "                            validation_data = (X_test, X_test),\n",
        "                            callbacks = [stopper])\n",
        "\n",
        "LossGraph(history)\n",
        "\n",
        "# Predicting\n",
        "\n",
        "predictions = autoencoder_2.predict(X_test)\n",
        "\n",
        "# Reconstruction error (RMSE)\n",
        "\n",
        "rmse = np.sqrt(np.mean(np.power(X_test - predictions, 2), axis = 1))\n",
        "\n",
        "# Reconstructed data\n",
        "\n",
        "reconstructed = pd.DataFrame({'rec_error': rmse,'true_class': y_test})\n",
        "\n",
        "frauds = reconstructed[reconstructed.true_class == 1].drop('true_class', axis = 1)\n",
        "cleared = reconstructed[reconstructed.true_class == 0].drop('true_class', axis = 1)\n",
        "\n",
        "# Predicting the class using the threshtold\n",
        "\n",
        "threshold = 3\n",
        "\n",
        "reconstructed['pred_class'] = 0\n",
        "reconstructed.pred_class[reconstructed.rec_error > threshold] = 1\n",
        "\n",
        "# Model Performance\n",
        "\n",
        "ReconstructionScatter(cleared, frauds, threshold = threshold)\n",
        "ModelPerformance(X_test, y_test, reconstructed.pred_class)"
      ],
      "execution_count": 39,
      "outputs": [
        {
          "output_type": "stream",
          "text": [
            "Train on 227448 samples, validate on 56962 samples\n",
            "Epoch 1/100\n",
            " - 7s - loss: 0.5160 - mae: 0.4585 - accuracy: 0.7803 - val_loss: 0.5351 - val_mae: 0.4009 - val_accuracy: 0.9208\n",
            "Epoch 2/100\n",
            " - 7s - loss: 0.4571 - mae: 0.3815 - accuracy: 0.9463 - val_loss: 0.5286 - val_mae: 0.3942 - val_accuracy: 0.9252\n",
            "Epoch 3/100\n",
            " - 7s - loss: 0.4544 - mae: 0.3680 - accuracy: 0.9742 - val_loss: 0.5242 - val_mae: 0.3705 - val_accuracy: 0.9814\n",
            "Epoch 4/100\n",
            " - 7s - loss: 0.4538 - mae: 0.3629 - accuracy: 0.9834 - val_loss: 0.5241 - val_mae: 0.3716 - val_accuracy: 0.9788\n",
            "Epoch 5/100\n",
            " - 7s - loss: 0.4537 - mae: 0.3613 - accuracy: 0.9866 - val_loss: 0.5266 - val_mae: 0.3917 - val_accuracy: 0.9248\n",
            "Epoch 6/100\n",
            " - 7s - loss: 0.4536 - mae: 0.3602 - accuracy: 0.9885 - val_loss: 0.5236 - val_mae: 0.3661 - val_accuracy: 0.9883\n",
            "Epoch 7/100\n",
            " - 7s - loss: 0.4535 - mae: 0.3598 - accuracy: 0.9896 - val_loss: 0.5236 - val_mae: 0.3658 - val_accuracy: 0.9899\n",
            "Restoring model weights from the end of the best epoch\n",
            "Epoch 00007: early stopping\n"
          ],
          "name": "stdout"
        },
        {
          "output_type": "display_data",
          "data": {
            "image/png": "[encoded data removed]",
            "text/plain": [
              "<Figure size 864x648 with 1 Axes>"
            ]
          },
          "metadata": {
            "tags": []
          }
        },
        {
          "output_type": "stream",
          "text": [
            "/usr/local/lib/python3.6/dist-packages/ipykernel_launcher.py:67: SettingWithCopyWarning: \n",
            "A value is trying to be set on a copy of a slice from a DataFrame\n",
            "\n",
            "See the caveats in the documentation: https://pandas.pydata.org/pandas-docs/stable/user_guide/indexing.html#returning-a-view-versus-a-copy\n"
          ],
          "name": "stderr"
        },
        {
          "output_type": "display_data",
          "data": {
            "image/png": "[encoded data removed]",
            "text/plain": [
              "<Figure size 864x648 with 1 Axes>"
            ]
          },
          "metadata": {
            "tags": []
          }
        },
        {
          "output_type": "stream",
          "text": [
            "\n",
            " Confusion Matrix \n",
            " =================================== \n",
            "\n"
          ],
          "name": "stdout"
        },
        {
          "output_type": "display_data",
          "data": {
            "image/png": "[encoded data removed]",
            "text/plain": [
              "<Figure size 432x288 with 1 Axes>"
            ]
          },
          "metadata": {
            "tags": []
          }
        },
        {
          "output_type": "stream",
          "text": [
            "\n",
            " Classification Report \n",
            " =================================== \n",
            "               precision    recall  f1-score   support\n",
            "\n",
            "           0       1.00      1.00      1.00     56867\n",
            "           1       0.67      0.72      0.69        95\n",
            "\n",
            "    accuracy                           1.00     56962\n",
            "   macro avg       0.84      0.86      0.85     56962\n",
            "weighted avg       1.00      1.00      1.00     56962\n",
            "\n"
          ],
          "name": "stdout"
        }
      ]
    },
    {
      "cell_type": "code",
      "metadata": {
        "id": "36aaafHeAyaB",
        "colab_type": "code",
        "colab": {}
      },
      "source": [
        "# import time\n",
        "# for i in range(60):\n",
        "#   time.sleep(60)\n",
        "#   print(i)"
      ],
      "execution_count": null,
      "outputs": []
    }
  ]
}